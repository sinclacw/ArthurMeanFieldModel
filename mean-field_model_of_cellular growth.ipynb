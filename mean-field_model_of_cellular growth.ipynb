{
 "cells": [
  {
   "cell_type": "markdown",
   "metadata": {},
   "source": [
    "# Mean Field Model of Cellular Growth : 2D Version\n",
    "\n",
    "Based on work published in: A mean-field model of static recrystallization considering orientation spreads and their time-evolution: A Després, M Greenwood, CW Sinclair, Acta Materialia 199, 116-128\n",
    "March 2, 2020\n",
    "Chad Sinclair"
   ]
  },
  {
   "cell_type": "code",
   "execution_count": 1,
   "metadata": {},
   "outputs": [],
   "source": [
    "import numpy as numpy\n",
    "from scipy import math\n",
    "from scipy import stats\n",
    "from scipy import special\n",
    "from numpy.random import random\n",
    "from scipy.spatial import cKDTree\n",
    "import matplotlib.pyplot as plt\n",
    "import pylab as pylab\n",
    "import brewer2mpl\n",
    "import glob \n",
    "import matplotlib.ticker as mtick\n",
    "\n",
    "\n",
    "#import brewer2mpl\n",
    "#colors = brewer2mpl.get_map('Set2', 'qualitative', 8).mpl_colors"
   ]
  },
  {
   "cell_type": "markdown",
   "metadata": {},
   "source": [
    "Function below provides simple progress bar to show progress of calculation"
   ]
  },
  {
   "cell_type": "code",
   "execution_count": 2,
   "metadata": {},
   "outputs": [],
   "source": [
    "import time, sys\n",
    "from IPython.display import clear_output\n",
    "\n",
    "def update_progress(progress):\n",
    "    bar_length = 20\n",
    "    if isinstance(progress, int):\n",
    "        progress = float(progress)\n",
    "    if not isinstance(progress, float):\n",
    "        progress = 0\n",
    "    if progress < 0:\n",
    "        progress = 0\n",
    "    if progress >= 1:\n",
    "        progress = 1\n",
    "\n",
    "    block = int(round(bar_length * progress))\n",
    "\n",
    "    clear_output(wait = True)\n",
    "    text = \"Progress: [{0}] {1:.1f}%\".format( \"#\" * block + \"-\" * (bar_length - block), progress * 100)\n",
    "    print(text)\n"
   ]
  },
  {
   "cell_type": "markdown",
   "metadata": {},
   "source": [
    "### Function: Generates N orientations as rodriguez vectors \n",
    "Rodriguez vectors choosen by randomly choosing lengths of the 3 basis vectors and then combining.  This gives a trivariate normal distribution centred on the reference orientation.  Function outputs the N rodriguez vectors (r) and the associated values of the disorientation angle ($\\omega$) relative to the mean orientation."
   ]
  },
  {
   "cell_type": "code",
   "execution_count": 3,
   "metadata": {},
   "outputs": [],
   "source": [
    "def generate_rod(sigma_ref,N):\n",
    "\n",
    "    len1=numpy.random.normal(0,sigma_ref, N)\n",
    "    len2=numpy.random.normal(0,sigma_ref, N)\n",
    "    len3=numpy.random.normal(0,sigma_ref, N)\n",
    "\n",
    "    rod01 = numpy.asarray([1.,0.,0.])\n",
    "    rod02 = numpy.asarray([0.,1.,0.])\n",
    "    rod03 = numpy.asarray([0.,0.,1.])\n",
    "\n",
    "    r = []\n",
    "    rnorm = []\n",
    "\n",
    "    for i in range(len(len1)):\n",
    "        rtmp = len1[i]*rod01+len2[i]*rod02+len3[i]*rod03\n",
    "        r.append(rtmp)\n",
    "        rnorm.append(numpy.linalg.norm(rtmp))\n",
    "    \n",
    "    omega = numpy.arcsin(rnorm)\n",
    "    \n",
    "    return(r,omega)"
   ]
  },
  {
   "cell_type": "markdown",
   "metadata": {},
   "source": [
    "### Functions: Surface energy and mobilities\n",
    "\n",
    "Functions to calculate the surface energy (gamma) and mobility (mu) of an interface as a function of the boundary disorientation ($\\theta$).  Functions to calculate the second deritivatives are also provided to allow for calculations of the average values based on Taylor series expansion."
   ]
  },
  {
   "cell_type": "markdown",
   "metadata": {},
   "source": [
    "In this case the following forms for the surface energy and mobility are used:\n",
    "\n",
    "$\\gamma = \\gamma_{c}\\frac{\\theta}{\\theta_{c}}\\left(1- \\ln\\frac{\\theta}{\\theta_{c}}  \\right) \\hspace{3mm}$ if $\\hspace{3mm} \\theta \\leq \\theta_c \\hspace{3mm}$ or $\\hspace{3mm} \\gamma = \\gamma_c \\hspace{3mm} $  if $ \\hspace{3mm} \\theta > \\theta_c$\n",
    "\n",
    "\n",
    "\n",
    "$\\mu \\left(\\theta\\right)=\\mu_{c}\\left(1- e^{-B\\left(\\frac{\\theta}{\\theta_{c}}\\right)^{\\eta}}  \\right)$"
   ]
  },
  {
   "cell_type": "code",
   "execution_count": 4,
   "metadata": {},
   "outputs": [],
   "source": [
    "# Mobility (mu) and its second derivative (muddot)\n",
    "mu = lambda theta : (1-numpy.exp(-B*(theta/theta_c)**eta))\n",
    "muddot = lambda theta : B*eta/theta_c**(2*eta)*numpy.exp(-B*(theta/theta_c)**eta)*(-B*eta*theta**(2*eta-2)+theta_c**eta*(eta-1)*theta**(eta-2))\n",
    "\n",
    "# Surface energy (gamma) and its second derivative (gammaddot)\n",
    "def gamma(theta):\n",
    "    \n",
    "    theta = numpy.asarray(theta)\n",
    "    gam = theta/theta_c*(1-numpy.log(theta/theta_c)) \n",
    "    gam[theta>theta_c] = 1\n",
    "    gam[theta==0] = 0\n",
    "    \n",
    "    return gam\n",
    "        \n",
    "def gammaddot(theta):\n",
    "    theta = numpy.asarray(theta)\n",
    "    mddot = -1/(theta_c*theta)\n",
    "    mddot[theta > theta_c] = 0\n",
    "    mddot[theta == 0] = 0\n",
    "        \n",
    "    return mddot\n",
    "    \n",
    "def calc_sigma_ref(r):\n",
    "    \n",
    "    rnorm = []\n",
    "    covm = numpy.zeros([3,3])\n",
    "    for i in range(len(r)):\n",
    "        covm = covm + numpy.outer(r[i],r[i])\n",
    "        rnorm.append(numpy.linalg.norm(r[i]))\n",
    "        \n",
    "\n",
    "    covm = covm/len(r)\n",
    "    val, vect=numpy.linalg.eig(covm)\n",
    "    sigma_ref = (val[0]*val[1]*val[2])**(1./6.)\n",
    "    \n",
    "    omega = numpy.arcsin(rnorm)\n",
    "    \n",
    "    return sigma_ref,omega"
   ]
  },
  {
   "cell_type": "markdown",
   "metadata": {},
   "source": [
    "### Function: Main calculation for kinetics\n",
    "This function takes in the set of $N$ rodriguez vectors (r), the associated grain sizes (Ri) and the number of time steps to be used (NSteps).\n",
    "\n",
    "The function outputs \n",
    "* The mean grain radius at each time step\n",
    "* The total number of grains at each time step\n",
    "* The total area at each time step\n",
    "* The fraction recrystallized at each time step\n",
    "* The final grain size distribution\n",
    "* The final distribution of the disorientaitons ($\\omega$) with respect to the mean orientation"
   ]
  },
  {
   "cell_type": "markdown",
   "metadata": {},
   "source": [
    "### Steps in calculation:\n",
    "\n",
    "#### Step 1: \n",
    "* From the input rodriguez vectors the distribution of the disorientation angles and standard deviation ($\\omega, \\hspace{2mm} \\sigma_{ref}$) are calculated. \n",
    "\n",
    "#### Step 2: The mean boundary angle and its variance are calculated from:\n",
    "\n",
    "$\\kappa_{\\left(t,\\omega\\right)}=\\frac{\\sin{\\omega/2}}{\\sigma^{ref}_{\\left(t,\\omega\\right)}}$\n",
    "\n",
    "$<\\theta>_{\\left(t,\\omega\\right)}=\\sigma^{ref}_{\\left(t\\right)}\\sqrt{2\\pi}L_{1/2}^{\\left(1/2\\right)}\\left(-\\frac{\\sin{\\left(\\omega/2\\right)^2}}{2\\sigma^{ref}}\\right)$\n",
    "\n",
    "$<\\theta^2>_{\\left(t,\\omega\\right)}=4\\left(\\sigma^{ref}_{\\left(t\\right)}\\right)^2\\left(3+\\left(\\frac{\\sin{\\omega/2}}{\\sigma^{ref}_{\\left(t,\\omega\\right)}}\\right)^2\\right)$\n",
    "\n",
    "#### Step 3:  Knowing the boundary disorientations for each value of $\\omega$ the mobility and surface energy are calculated from a second order taylor expansion\n",
    "\n",
    "#### Step 4:  The rate of grain growth is calculated for each grain\n",
    "\n",
    "$\\frac{dR_i}{dt}=\\frac{M_\\omega\\Gamma_\\omega}{2R_i}\\left(a\\left(1+\\frac{R_i}{\\bar{R}}\\right)-2\\right)$\n",
    "\n",
    "$a = 6 \\sin^{-1}{\\left(\\bar{\\Gamma}/2\\Gamma\\right)}/\\pi$\n",
    "\n",
    "#### Step 5:  Grain sizes are updated using $R_{i,t} = R_{i,t-1} + \\frac{dR_{i,t-1}}{dt} \\Delta t$  where dt is the time step size\n",
    "\n",
    "#### Step 6: Any grains with a size less than 0 are removed - this means removing their size and rodriguez vectors from the list of existing grains\n",
    "\n",
    "#### Step 7:  Compute properties and return to step 1"
   ]
  },
  {
   "cell_type": "code",
   "execution_count": 5,
   "metadata": {},
   "outputs": [],
   "source": [
    "def calculatekinetics(r, Ri,Nsteps,dt):\n",
    "\n",
    "    meanRi = []\n",
    "    Ngrains = []\n",
    "    A = []\n",
    "    sigr = []\n",
    "    ndel = []\n",
    "    X = []\n",
    "    \n",
    "    barRi0 = numpy.mean(Ri)\n",
    "\n",
    "    sigma_ref,omega = calc_sigma_ref(r)\n",
    "\n",
    "    for i in range(Nsteps):\n",
    "\n",
    "        update_progress(i / Nsteps)\n",
    "    \n",
    "        kappa = numpy.sin(omega/2.)/(sigma_ref)\n",
    "        mean_theta_i = numpy.sqrt(2*numpy.pi)*sigma_ref*special.eval_genlaguerre(1/2, 1/2, -kappa**2/2., out=None)\n",
    "        mean_theta2_i = 4*sigma_ref**2*(3+(numpy.sin(omega/2.)/sigma_ref)**2)\n",
    "    \n",
    "        mean_theta_tot = 2.*numpy.sqrt(2)*sigma_ref*numpy.sqrt(numpy.pi/2)*special.eval_genlaguerre(1/2, 1/2, 0, out=None)\n",
    "        mean_theta2_tot = 24*sigma_ref**2\n",
    "    \n",
    "    \n",
    "        barG = gamma([mean_theta_tot]) + gammaddot([mean_theta_tot])/2*(mean_theta2_tot-(mean_theta_tot)**2)\n",
    "        G = gamma(mean_theta_i) + gammaddot(mean_theta_i)/2*(mean_theta2_i-(mean_theta_i)**2)\n",
    "        M = mu(mean_theta_i) + muddot(mean_theta_i)/2*(mean_theta2_i-(mean_theta_i)**2)\n",
    "    \n",
    "        a = 6*numpy.arcsin((barG/(2*G))/numpy.pi)\n",
    "    \n",
    "        barR = numpy.mean(Ri)\n",
    "        dRdt = M*G/Ri*(a*(1+Ri/barR)-2)\n",
    "        Ri = Ri +dRdt*dt\n",
    "    \n",
    "        ind = numpy.where(Ri<0)\n",
    "        Ri = numpy.delete(Ri,ind)\n",
    "        r = numpy.delete(r,ind,0)\n",
    "    \n",
    "        sigma_ref,omega = calc_sigma_ref(r)\n",
    "    \n",
    "        sigr.append(sigma_ref)\n",
    "        meanRi.append(numpy.mean(Ri))\n",
    "        Ngrains.append(len(Ri))\n",
    "        A.append(numpy.pi*numpy.sum(Ri**2))\n",
    "        ind2 = numpy.where(Ri>8*barRi0)\n",
    "        X.append(numpy.sum((Ri[ind2])**2)/numpy.sum(Ri**2))\n",
    "        \n",
    "    return meanRi,Ngrains,A,X,Ri,omega\n",
    "         "
   ]
  },
  {
   "cell_type": "markdown",
   "metadata": {},
   "source": [
    "## Setup and Run"
   ]
  },
  {
   "cell_type": "markdown",
   "metadata": {},
   "source": [
    "#### Step 1:  Define constants\n",
    "\n",
    "$B,\\eta$ = constants in the mobility law"
   ]
  },
  {
   "cell_type": "code",
   "execution_count": 6,
   "metadata": {},
   "outputs": [],
   "source": [
    "B = 5\n",
    "eta = 4"
   ]
  },
  {
   "cell_type": "markdown",
   "metadata": {},
   "source": [
    "$\\theta_c$ is the critical angle where the boundary properties become constant in mobility and energy law"
   ]
  },
  {
   "cell_type": "code",
   "execution_count": 10,
   "metadata": {},
   "outputs": [],
   "source": [
    "theta_c = 15*numpy.pi/180"
   ]
  },
  {
   "cell_type": "markdown",
   "metadata": {},
   "source": [
    "#### Step 2:  Generate grains and orientations\n",
    "* Define the number of grains to be modelled N\n",
    "* Calculate the grain size distribution (Ri) assuming a Rayleigh distribution with width sigma_r\n",
    "* Calculate the rodriguez vectors using a standard deviation for the normal distributions of sigma_ref"
   ]
  },
  {
   "cell_type": "code",
   "execution_count": 34,
   "metadata": {},
   "outputs": [],
   "source": [
    "N = 50000  # Number of grains\n",
    "\n",
    "sigma_r = 1  # Width of grain size distribution\n",
    "Ri=numpy.random.rayleigh(sigma_r, N) # N grain sizes\n",
    "\n",
    "sigma_ref = 3.5*numpy.pi/180  #width of normal distributions for rodriguez vector construction\n",
    "r,omega = generate_rod(sigma_ref,N)  # rodriguez vectors and reference disorientations "
   ]
  },
  {
   "cell_type": "markdown",
   "metadata": {},
   "source": [
    "#### Step 3:  Run the time evolution for Nsteps with each step having a normalized time of dt\n",
    "Output:\n",
    "* Mean grain radius at each time\n",
    "* Number of grains at each time\n",
    "* Total grain area at each time\n",
    "* Recrystallized fraction at each time (recrystallized grains defined as being larger than 8 times the size of the initial mean grain size\n",
    "* Final grain size distribution\n",
    "* Final distribution of reference disorientations (this represents the texture)"
   ]
  },
  {
   "cell_type": "code",
   "execution_count": 35,
   "metadata": {},
   "outputs": [
    {
     "name": "stdout",
     "output_type": "stream",
     "text": [
      "Progress: [####################] 99.9%\n"
     ]
    }
   ],
   "source": [
    "Nsteps = 1000\n",
    "dt = 1\n",
    "\n",
    "meanRi,Ngrains,A,X,Rj,omegaj = calculatekinetics(r, Ri,Nsteps,dt)"
   ]
  },
  {
   "cell_type": "code",
   "execution_count": 36,
   "metadata": {},
   "outputs": [
    {
     "name": "stdout",
     "output_type": "stream",
     "text": [
      "Comparing Grain Size and Disorientation Distributions before and after simulation\n"
     ]
    },
    {
     "data": {
      "image/png": "[encoded data removed]",
      "text/plain": [
       "<Figure size 800x400 with 2 Axes>"
      ]
     },
     "metadata": {},
     "output_type": "display_data"
    }
   ],
   "source": [
    "fig=plt.figure(figsize=(10, 5), dpi= 80, facecolor='w', edgecolor='k')\n",
    "\n",
    "ax = fig.add_subplot(1,2,1)\n",
    "v =ax.hist(Ri,bins=50,density=True,alpha=1.0,label='Initial')\n",
    "v =ax.hist(Rj,bins=50,density=True,alpha=0.4,label='Final')\n",
    "plt.xlabel('Grain Size')\n",
    "plt.ylabel('Probability Density')\n",
    "ax.legend()\n",
    "\n",
    "ax2 = fig.add_subplot(1,2,2)\n",
    "v=ax2.hist(omega*180/numpy.pi,bins=50,density=True,alpha=1.0,label='Initial')\n",
    "v=ax2.hist(omegaj*180/numpy.pi,bins=50,density=True,alpha=0.4,label='Final')\n",
    "plt.xlabel('Omega, reference disorientation (rads)')\n",
    "plt.ylabel('Probability Density')\n",
    "ax2.legend()\n",
    "\n",
    "print('Comparing Grain Size and Disorientation Distributions before and after simulation')"
   ]
  },
  {
   "cell_type": "code",
   "execution_count": 37,
   "metadata": {},
   "outputs": [
    {
     "data": {
      "text/plain": [
       "Text(0,0.5,'Mean Grain Size, $\\\\bar{R_i}$')"
      ]
     },
     "execution_count": 37,
     "metadata": {},
     "output_type": "execute_result"
    },
    {
     "data": {
      "image/png": "[encoded data removed]",
      "text/plain": [
       "<Figure size 800x400 with 2 Axes>"
      ]
     },
     "metadata": {},
     "output_type": "display_data"
    }
   ],
   "source": [
    "t = numpy.linspace(0,Nsteps*dt,Nsteps) # Time in units of $gamma_c*mu_c*rho_0  where rho_0 is the initial number of grains/area\n",
    "\n",
    "fig2=plt.figure(figsize=(10, 5), dpi= 80, facecolor='w', edgecolor='k')\n",
    "\n",
    "ax3 = fig2.add_subplot(1,2,1)\n",
    "ax3.semilogx(t,X,'.')\n",
    "plt.xlabel('t/$\\gamma_c \\mu_c \\\\rho_0$')\n",
    "plt.ylabel('Recrystallized Fraction')\n",
    "\n",
    "ax4 = fig2.add_subplot(1,2,2)\n",
    "ax4.semilogx(t,meanRi,'.')\n",
    "plt.xlabel('t/$\\gamma_c \\mu_c \\\\rho_0$')\n",
    "plt.ylabel('Mean Grain Size, $\\\\bar{R_i}$')"
   ]
  },
  {
   "cell_type": "code",
   "execution_count": null,
   "metadata": {},
   "outputs": [],
   "source": []
  },
  {
   "cell_type": "code",
   "execution_count": null,
   "metadata": {},
   "outputs": [],
   "source": []
  }
 ],
 "metadata": {
  "kernelspec": {
   "display_name": "Python 3",
   "language": "python",
   "name": "python3"
  },
  "language_info": {
   "codemirror_mode": {
    "name": "ipython",
    "version": 3
   },
   "file_extension": ".py",
   "mimetype": "text/x-python",
   "name": "python",
   "nbconvert_exporter": "python",
   "pygments_lexer": "ipython3",
   "version": "3.6.5"
  }
 },
 "nbformat": 4,
 "nbformat_minor": 2
}
