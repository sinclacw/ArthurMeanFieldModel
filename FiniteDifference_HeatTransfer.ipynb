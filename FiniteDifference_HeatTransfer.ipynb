{
  "nbformat": 4,
  "nbformat_minor": 0,
  "metadata": {
    "colab": {
      "name": "Untitled0.ipynb",
      "provenance": [],
      "authorship_tag": "ABX9TyPp4CQvVg34nZWujNo+s6Og",
      "include_colab_link": true
    },
    "kernelspec": {
      "name": "python3",
      "display_name": "Python 3"
    },
    "language_info": {
      "name": "python"
    }
  },
  "cells": [
    {
      "cell_type": "markdown",
      "metadata": {
        "id": "view-in-github",
        "colab_type": "text"
      },
      "source": [
        "<a href=\"https://colab.research.google.com/github/sinclacw/ArthurMeanFieldModel/blob/master/FiniteDifference_HeatTransfer.ipynb\" target=\"_parent\"><img src=\"https://colab.research.google.com/assets/colab-badge.svg\" alt=\"Open In Colab\"/></a>"
      ]
    },
    {
      "cell_type": "markdown",
      "metadata": {
        "id": "0Ju7vDJYvFbh"
      },
      "source": [
        "## **Simulating Heat Transfer using Finite Difference Modelling**\n",
        "### 1-Dimensional Heat Transfer, constant material properties\n",
        "\n",
        "Heat transfer is governed by Fourier's second law - this allows us to predict the evolution of temperature ${T}$ with time $t$ based on the solution to,\n",
        "\n",
        "$\\frac{\\partial T}{\\partial t} = \\frac{d}{dx}\\left(\\alpha \\frac{dT}{dx}\\right)$\n",
        "\n",
        "\n"
      ]
    },
    {
      "cell_type": "code",
      "metadata": {
        "id": "KMDeFOwOvEux"
      },
      "source": [
        ""
      ],
      "execution_count": null,
      "outputs": []
    }
  ]
}